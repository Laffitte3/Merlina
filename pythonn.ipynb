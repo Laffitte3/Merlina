{
 "cells": [
  {
   "cell_type": "code",
   "execution_count": 2,
   "metadata": {},
   "outputs": [
    {
     "name": "stdout",
     "output_type": "stream",
     "text": [
      "******PIEDRA, PAPEL O TIJERAS*****\n",
      "Opciones: \n",
      "1.Piedra\n",
      "2.Tijera\n",
      "3.Papel\n",
      " \n"
     ]
    },
    {
     "ename": "KeyboardInterrupt",
     "evalue": "Interrupted by user",
     "output_type": "error",
     "traceback": [
      "\u001b[1;31m---------------------------------------------------------------------------\u001b[0m",
      "\u001b[1;31mKeyboardInterrupt\u001b[0m                         Traceback (most recent call last)",
      "Cell \u001b[1;32mIn[2], line 15\u001b[0m\n\u001b[0;32m      3\u001b[0m \u001b[38;5;66;03m# piedra = 1; \u001b[39;00m\n\u001b[0;32m      4\u001b[0m \u001b[38;5;66;03m# tijera=2;\u001b[39;00m\n\u001b[0;32m      5\u001b[0m \u001b[38;5;66;03m# papel=3;\u001b[39;00m\n\u001b[1;32m   (...)\u001b[0m\n\u001b[0;32m     10\u001b[0m \u001b[38;5;66;03m# nombre=input(\"Jugador 1 ingrese su nombre\");\u001b[39;00m\n\u001b[0;32m     11\u001b[0m \u001b[38;5;66;03m# nombre=input(\"Jugador 2 ingrese su nombre\");\u001b[39;00m\n\u001b[0;32m     13\u001b[0m \u001b[38;5;28mprint\u001b[39m(\u001b[38;5;124m\"\u001b[39m\u001b[38;5;124mOpciones: \u001b[39m\u001b[38;5;130;01m\\n\u001b[39;00m\u001b[38;5;124m1.Piedra\u001b[39m\u001b[38;5;130;01m\\n\u001b[39;00m\u001b[38;5;124m2.Tijera\u001b[39m\u001b[38;5;130;01m\\n\u001b[39;00m\u001b[38;5;124m3.Papel\u001b[39m\u001b[38;5;130;01m\\n\u001b[39;00m\u001b[38;5;124m \u001b[39m\u001b[38;5;124m\"\u001b[39m);\n\u001b[1;32m---> 15\u001b[0m name1\u001b[38;5;241m=\u001b[39m\u001b[38;5;28;43minput\u001b[39;49m\u001b[43m(\u001b[49m\u001b[38;5;124;43m\"\u001b[39;49m\u001b[38;5;124;43mJugador 1 ingrese su opcion es minuscula y sin plural: \u001b[39;49m\u001b[38;5;124;43m\"\u001b[39;49m\u001b[43m)\u001b[49m;\n\u001b[0;32m     16\u001b[0m name2\u001b[38;5;241m=\u001b[39m\u001b[38;5;28minput\u001b[39m(\u001b[38;5;124m\"\u001b[39m\u001b[38;5;124mJugador 2 ingrese su opcion en miniscula y sin plural: \u001b[39m\u001b[38;5;124m\"\u001b[39m);\n\u001b[0;32m     19\u001b[0m \u001b[38;5;28;01mif\u001b[39;00m(name1\u001b[38;5;241m==\u001b[39m\u001b[38;5;124m\"\u001b[39m\u001b[38;5;124mpiedra\u001b[39m\u001b[38;5;124m\"\u001b[39m \u001b[38;5;129;01mand\u001b[39;00m name2\u001b[38;5;241m==\u001b[39m\u001b[38;5;124m\"\u001b[39m\u001b[38;5;124mtijera\u001b[39m\u001b[38;5;124m\"\u001b[39m):\n",
      "File \u001b[1;32m~\\AppData\\Roaming\\Python\\Python312\\site-packages\\ipykernel\\kernelbase.py:1270\u001b[0m, in \u001b[0;36mKernel.raw_input\u001b[1;34m(self, prompt)\u001b[0m\n\u001b[0;32m   1268\u001b[0m     msg \u001b[38;5;241m=\u001b[39m \u001b[38;5;124m\"\u001b[39m\u001b[38;5;124mraw_input was called, but this frontend does not support input requests.\u001b[39m\u001b[38;5;124m\"\u001b[39m\n\u001b[0;32m   1269\u001b[0m     \u001b[38;5;28;01mraise\u001b[39;00m StdinNotImplementedError(msg)\n\u001b[1;32m-> 1270\u001b[0m \u001b[38;5;28;01mreturn\u001b[39;00m \u001b[38;5;28;43mself\u001b[39;49m\u001b[38;5;241;43m.\u001b[39;49m\u001b[43m_input_request\u001b[49m\u001b[43m(\u001b[49m\n\u001b[0;32m   1271\u001b[0m \u001b[43m    \u001b[49m\u001b[38;5;28;43mstr\u001b[39;49m\u001b[43m(\u001b[49m\u001b[43mprompt\u001b[49m\u001b[43m)\u001b[49m\u001b[43m,\u001b[49m\n\u001b[0;32m   1272\u001b[0m \u001b[43m    \u001b[49m\u001b[38;5;28;43mself\u001b[39;49m\u001b[38;5;241;43m.\u001b[39;49m\u001b[43m_parent_ident\u001b[49m\u001b[43m[\u001b[49m\u001b[38;5;124;43m\"\u001b[39;49m\u001b[38;5;124;43mshell\u001b[39;49m\u001b[38;5;124;43m\"\u001b[39;49m\u001b[43m]\u001b[49m\u001b[43m,\u001b[49m\n\u001b[0;32m   1273\u001b[0m \u001b[43m    \u001b[49m\u001b[38;5;28;43mself\u001b[39;49m\u001b[38;5;241;43m.\u001b[39;49m\u001b[43mget_parent\u001b[49m\u001b[43m(\u001b[49m\u001b[38;5;124;43m\"\u001b[39;49m\u001b[38;5;124;43mshell\u001b[39;49m\u001b[38;5;124;43m\"\u001b[39;49m\u001b[43m)\u001b[49m\u001b[43m,\u001b[49m\n\u001b[0;32m   1274\u001b[0m \u001b[43m    \u001b[49m\u001b[43mpassword\u001b[49m\u001b[38;5;241;43m=\u001b[39;49m\u001b[38;5;28;43;01mFalse\u001b[39;49;00m\u001b[43m,\u001b[49m\n\u001b[0;32m   1275\u001b[0m \u001b[43m\u001b[49m\u001b[43m)\u001b[49m\n",
      "File \u001b[1;32m~\\AppData\\Roaming\\Python\\Python312\\site-packages\\ipykernel\\kernelbase.py:1313\u001b[0m, in \u001b[0;36mKernel._input_request\u001b[1;34m(self, prompt, ident, parent, password)\u001b[0m\n\u001b[0;32m   1310\u001b[0m \u001b[38;5;28;01mexcept\u001b[39;00m \u001b[38;5;167;01mKeyboardInterrupt\u001b[39;00m:\n\u001b[0;32m   1311\u001b[0m     \u001b[38;5;66;03m# re-raise KeyboardInterrupt, to truncate traceback\u001b[39;00m\n\u001b[0;32m   1312\u001b[0m     msg \u001b[38;5;241m=\u001b[39m \u001b[38;5;124m\"\u001b[39m\u001b[38;5;124mInterrupted by user\u001b[39m\u001b[38;5;124m\"\u001b[39m\n\u001b[1;32m-> 1313\u001b[0m     \u001b[38;5;28;01mraise\u001b[39;00m \u001b[38;5;167;01mKeyboardInterrupt\u001b[39;00m(msg) \u001b[38;5;28;01mfrom\u001b[39;00m \u001b[38;5;28;01mNone\u001b[39;00m\n\u001b[0;32m   1314\u001b[0m \u001b[38;5;28;01mexcept\u001b[39;00m \u001b[38;5;167;01mException\u001b[39;00m:\n\u001b[0;32m   1315\u001b[0m     \u001b[38;5;28mself\u001b[39m\u001b[38;5;241m.\u001b[39mlog\u001b[38;5;241m.\u001b[39mwarning(\u001b[38;5;124m\"\u001b[39m\u001b[38;5;124mInvalid Message:\u001b[39m\u001b[38;5;124m\"\u001b[39m, exc_info\u001b[38;5;241m=\u001b[39m\u001b[38;5;28;01mTrue\u001b[39;00m)\n",
      "\u001b[1;31mKeyboardInterrupt\u001b[0m: Interrupted by user"
     ]
    }
   ],
   "source": [
    "\n",
    "print(\"******PIEDRA, PAPEL O TIJERAS*****\");\n",
    "\n",
    "# piedra = 1; \n",
    "# tijera=2;\n",
    "# papel=3;\n",
    "\n",
    "\n",
    "# \\n NOTA QUEDO FEO Y HAY COSAS QUE MEJORAR, Y FALTO ASIGNAR LOS NOMBRES AL GANADOR\n",
    "\n",
    "# nombre=input(\"Jugador 1 ingrese su nombre\");\n",
    "# nombre=input(\"Jugador 2 ingrese su nombre\");\n",
    "\n",
    "print(\"Opciones: \\n1.Piedra\\n2.Tijera\\n3.Papel\\n \");\n",
    "\n",
    "name1=input(\"Jugador 1 ingrese su opcion es minuscula y sin plural: \");\n",
    "name2=input(\"Jugador 2 ingrese su opcion en miniscula y sin plural: \");\n",
    "\n",
    "\n",
    "if(name1==\"piedra\" and name2==\"tijera\"):\n",
    "\n",
    "    print(\"ganaste jugador 1\");\n",
    "\n",
    "elif(name1 ==\"piedra\" and name2 ==\"papel\"):\n",
    "\n",
    "    print(\"Ganaste jugador 2\");\n",
    "\n",
    "elif(name1==\"piedra\"and name2==\"piedra\"):\n",
    "    print(\"empate\")\n",
    "\n",
    "elif(name1==\"tijera\" and name2==\"piedra\"):\n",
    "\n",
    "    print(\"Ganaste jugador 2\");\n",
    "\n",
    "elif(name1==\"tijera\" and name2==\"papel\"):\n",
    "    print(\"ganaste jugador 1\");\n",
    "\n",
    "elif(name1==\"tijera\" and name2==\"tijera\"):\n",
    "        print(\"empate\");\n",
    "\n",
    "elif(name1==\"papel\" and name2==\"tijera\"): \n",
    "\n",
    "    print(\"ganaste jugador 2\");\n",
    "\n",
    "elif(name1==\"papel\" and name2==\"piedra\"):\n",
    "\n",
    "    print(\"Ganaste jugador 1\");\n",
    "\n",
    "elif(name1==\"papel\" and name2==\"papel\"):\n",
    "      print(\"empate\");\n",
    "\n"
   ]
  }
 ],
 "metadata": {
  "kernelspec": {
   "display_name": "Python 3",
   "language": "python",
   "name": "python3"
  },
  "language_info": {
   "codemirror_mode": {
    "name": "ipython",
    "version": 3
   },
   "file_extension": ".py",
   "mimetype": "text/x-python",
   "name": "python",
   "nbconvert_exporter": "python",
   "pygments_lexer": "ipython3",
   "version": "3.12.1"
  }
 },
 "nbformat": 4,
 "nbformat_minor": 2
}
